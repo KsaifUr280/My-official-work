{
 "cells": [
  {
   "cell_type": "code",
   "execution_count": 58,
   "id": "08b15ca9-dbdc-4a98-8951-c5d6da4c10a5",
   "metadata": {
    "tags": []
   },
   "outputs": [],
   "source": [
    "import numpy as np\n",
    "import pandas as pd"
   ]
  },
  {
   "cell_type": "code",
   "execution_count": 59,
   "id": "98309087-433c-45bd-b186-16a27e078376",
   "metadata": {
    "tags": []
   },
   "outputs": [
    {
     "data": {
      "text/plain": [
       "(34, 35, 'irfan', 2)"
      ]
     },
     "execution_count": 59,
     "metadata": {},
     "output_type": "execute_result"
    }
   ],
   "source": [
    "tup = ( 34,35, 'irfan', 2)\n",
    "tup"
   ]
  },
  {
   "cell_type": "code",
   "execution_count": 60,
   "id": "1f696190-7163-41e5-b755-3096a44204c6",
   "metadata": {
    "tags": []
   },
   "outputs": [
    {
     "data": {
      "text/plain": [
       "tuple"
      ]
     },
     "execution_count": 60,
     "metadata": {},
     "output_type": "execute_result"
    }
   ],
   "source": [
    "type(tup)"
   ]
  },
  {
   "cell_type": "code",
   "execution_count": 61,
   "id": "7bc59049-dd73-4fa5-8b66-e01224fd2596",
   "metadata": {
    "tags": []
   },
   "outputs": [
    {
     "data": {
      "text/plain": [
       "['ss', 34, '35f', 345]"
      ]
     },
     "execution_count": 61,
     "metadata": {},
     "output_type": "execute_result"
    }
   ],
   "source": [
    "l1= [ 'ss', 34 ,'35f', 345]\n",
    "l1"
   ]
  },
  {
   "cell_type": "code",
   "execution_count": 62,
   "id": "0fbc9b3e-9dff-4f6f-831f-94cecc3171fd",
   "metadata": {
    "tags": []
   },
   "outputs": [
    {
     "data": {
      "text/plain": [
       "list"
      ]
     },
     "execution_count": 62,
     "metadata": {},
     "output_type": "execute_result"
    }
   ],
   "source": [
    "type(l1)"
   ]
  },
  {
   "cell_type": "code",
   "execution_count": 63,
   "id": "566f443c-e68a-49a7-a138-acb01bfabef5",
   "metadata": {
    "tags": []
   },
   "outputs": [
    {
     "data": {
      "text/plain": [
       "(34, 35, 'irfan', 2, 34, 35, 'irfan', 234)"
      ]
     },
     "execution_count": 63,
     "metadata": {},
     "output_type": "execute_result"
    }
   ],
   "source": [
    "tup2 = ( 34,35, 'irfan', 234)\n",
    "t= tup+ tup2\n",
    "t"
   ]
  },
  {
   "cell_type": "code",
   "execution_count": 64,
   "id": "d1491a3c-cd7a-4103-8dae-fbe818fbe459",
   "metadata": {
    "tags": []
   },
   "outputs": [
    {
     "data": {
      "text/plain": [
       "('ss', 34, '35f', 345)"
      ]
     },
     "execution_count": 64,
     "metadata": {},
     "output_type": "execute_result"
    }
   ],
   "source": [
    "tp=tuple(l1)\n",
    "tp"
   ]
  },
  {
   "cell_type": "code",
   "execution_count": 65,
   "id": "9ced2cf0-a695-4600-906d-aa781d2785e7",
   "metadata": {
    "tags": []
   },
   "outputs": [
    {
     "data": {
      "text/plain": [
       "tuple"
      ]
     },
     "execution_count": 65,
     "metadata": {},
     "output_type": "execute_result"
    }
   ],
   "source": [
    "type(tp)"
   ]
  },
  {
   "cell_type": "code",
   "execution_count": 66,
   "id": "23b8e1fa-413d-48b4-a46f-193c88f15a37",
   "metadata": {
    "tags": []
   },
   "outputs": [
    {
     "data": {
      "text/plain": [
       "(12,\n",
       " 'moin',\n",
       " ('ss', 34, '35f', 345),\n",
       " ['ss', 34, '35f', 345],\n",
       " (34, 35, 'irfan', 234))"
      ]
     },
     "execution_count": 66,
     "metadata": {},
     "output_type": "execute_result"
    }
   ],
   "source": [
    "rt=( 12,'moin', tp, l1, tup2)\n",
    "rt"
   ]
  },
  {
   "cell_type": "code",
   "execution_count": 67,
   "id": "938c7511-9eb6-485f-b435-71d357ca2056",
   "metadata": {
    "tags": []
   },
   "outputs": [
    {
     "data": {
      "text/plain": [
       "tuple"
      ]
     },
     "execution_count": 67,
     "metadata": {},
     "output_type": "execute_result"
    }
   ],
   "source": [
    "type(rt)"
   ]
  },
  {
   "cell_type": "code",
   "execution_count": 68,
   "id": "1a7aa247-2525-4cf9-83a5-dd2914be0208",
   "metadata": {
    "tags": []
   },
   "outputs": [
    {
     "data": {
      "text/plain": [
       "{'Name': ('irfan', 'moin', 'saif', 'Mouiz'),\n",
       " 'age': (24, 23, 25, 27),\n",
       " 'GPA': (3.54, 3.48, 3.44, 2.9)}"
      ]
     },
     "execution_count": 68,
     "metadata": {},
     "output_type": "execute_result"
    }
   ],
   "source": [
    "dic= { 'Name': ('irfan', 'moin', 'saif', 'Mouiz')\n",
    "      , 'age': (24, 23, 25, 27)\n",
    "     , 'GPA': (3.54, 3.48, 3.44, 2.90)}\n",
    "dic"
   ]
  },
  {
   "cell_type": "code",
   "execution_count": 69,
   "id": "905a6fd6-0160-41df-a044-bf9fb5893bd6",
   "metadata": {
    "tags": []
   },
   "outputs": [
    {
     "data": {
      "text/html": [
       "<div>\n",
       "<style scoped>\n",
       "    .dataframe tbody tr th:only-of-type {\n",
       "        vertical-align: middle;\n",
       "    }\n",
       "\n",
       "    .dataframe tbody tr th {\n",
       "        vertical-align: top;\n",
       "    }\n",
       "\n",
       "    .dataframe thead th {\n",
       "        text-align: right;\n",
       "    }\n",
       "</style>\n",
       "<table border=\"1\" class=\"dataframe\">\n",
       "  <thead>\n",
       "    <tr style=\"text-align: right;\">\n",
       "      <th></th>\n",
       "      <th>Name</th>\n",
       "      <th>age</th>\n",
       "      <th>GPA</th>\n",
       "    </tr>\n",
       "  </thead>\n",
       "  <tbody>\n",
       "    <tr>\n",
       "      <th>0</th>\n",
       "      <td>irfan</td>\n",
       "      <td>24</td>\n",
       "      <td>3.54</td>\n",
       "    </tr>\n",
       "    <tr>\n",
       "      <th>1</th>\n",
       "      <td>moin</td>\n",
       "      <td>23</td>\n",
       "      <td>3.48</td>\n",
       "    </tr>\n",
       "    <tr>\n",
       "      <th>2</th>\n",
       "      <td>saif</td>\n",
       "      <td>25</td>\n",
       "      <td>3.44</td>\n",
       "    </tr>\n",
       "    <tr>\n",
       "      <th>3</th>\n",
       "      <td>Mouiz</td>\n",
       "      <td>27</td>\n",
       "      <td>2.90</td>\n",
       "    </tr>\n",
       "  </tbody>\n",
       "</table>\n",
       "</div>"
      ],
      "text/plain": [
       "    Name  age   GPA\n",
       "0  irfan   24  3.54\n",
       "1   moin   23  3.48\n",
       "2   saif   25  3.44\n",
       "3  Mouiz   27  2.90"
      ]
     },
     "execution_count": 69,
     "metadata": {},
     "output_type": "execute_result"
    }
   ],
   "source": [
    "df= pd.DataFrame(dic)\n",
    "df"
   ]
  },
  {
   "cell_type": "code",
   "execution_count": 70,
   "id": "f1efc1c8-b623-48c8-9123-d4d7af3ab2c7",
   "metadata": {
    "tags": []
   },
   "outputs": [
    {
     "data": {
      "text/html": [
       "<div>\n",
       "<style scoped>\n",
       "    .dataframe tbody tr th:only-of-type {\n",
       "        vertical-align: middle;\n",
       "    }\n",
       "\n",
       "    .dataframe tbody tr th {\n",
       "        vertical-align: top;\n",
       "    }\n",
       "\n",
       "    .dataframe thead th {\n",
       "        text-align: right;\n",
       "    }\n",
       "</style>\n",
       "<table border=\"1\" class=\"dataframe\">\n",
       "  <thead>\n",
       "    <tr style=\"text-align: right;\">\n",
       "      <th></th>\n",
       "      <th>Name</th>\n",
       "      <th>age</th>\n",
       "      <th>GPA</th>\n",
       "    </tr>\n",
       "  </thead>\n",
       "  <tbody>\n",
       "    <tr>\n",
       "      <th>0</th>\n",
       "      <td>irfan</td>\n",
       "      <td>24</td>\n",
       "      <td>3.54</td>\n",
       "    </tr>\n",
       "    <tr>\n",
       "      <th>1</th>\n",
       "      <td>moin</td>\n",
       "      <td>23</td>\n",
       "      <td>3.48</td>\n",
       "    </tr>\n",
       "    <tr>\n",
       "      <th>2</th>\n",
       "      <td>saif</td>\n",
       "      <td>25</td>\n",
       "      <td>3.44</td>\n",
       "    </tr>\n",
       "    <tr>\n",
       "      <th>3</th>\n",
       "      <td>Mouiz</td>\n",
       "      <td>27</td>\n",
       "      <td>2.90</td>\n",
       "    </tr>\n",
       "  </tbody>\n",
       "</table>\n",
       "</div>"
      ],
      "text/plain": [
       "    Name  age   GPA\n",
       "0  irfan   24  3.54\n",
       "1   moin   23  3.48\n",
       "2   saif   25  3.44\n",
       "3  Mouiz   27  2.90"
      ]
     },
     "execution_count": 70,
     "metadata": {},
     "output_type": "execute_result"
    }
   ],
   "source": [
    "df"
   ]
  },
  {
   "cell_type": "code",
   "execution_count": 71,
   "id": "53d9d99f-c612-40e6-9b36-e62a2d03bded",
   "metadata": {
    "tags": []
   },
   "outputs": [],
   "source": [
    "gf=df"
   ]
  },
  {
   "cell_type": "code",
   "execution_count": 72,
   "id": "c64c8e89-43a3-4641-9c36-bb07e0c1d259",
   "metadata": {
    "tags": []
   },
   "outputs": [
    {
     "data": {
      "text/html": [
       "<div>\n",
       "<style scoped>\n",
       "    .dataframe tbody tr th:only-of-type {\n",
       "        vertical-align: middle;\n",
       "    }\n",
       "\n",
       "    .dataframe tbody tr th {\n",
       "        vertical-align: top;\n",
       "    }\n",
       "\n",
       "    .dataframe thead th {\n",
       "        text-align: right;\n",
       "    }\n",
       "</style>\n",
       "<table border=\"1\" class=\"dataframe\">\n",
       "  <thead>\n",
       "    <tr style=\"text-align: right;\">\n",
       "      <th></th>\n",
       "      <th>Name</th>\n",
       "      <th>age</th>\n",
       "      <th>GPA</th>\n",
       "    </tr>\n",
       "  </thead>\n",
       "  <tbody>\n",
       "    <tr>\n",
       "      <th>0</th>\n",
       "      <td>irfan</td>\n",
       "      <td>24</td>\n",
       "      <td>3.54</td>\n",
       "    </tr>\n",
       "    <tr>\n",
       "      <th>1</th>\n",
       "      <td>moin</td>\n",
       "      <td>23</td>\n",
       "      <td>3.48</td>\n",
       "    </tr>\n",
       "    <tr>\n",
       "      <th>2</th>\n",
       "      <td>saif</td>\n",
       "      <td>25</td>\n",
       "      <td>3.44</td>\n",
       "    </tr>\n",
       "    <tr>\n",
       "      <th>3</th>\n",
       "      <td>Mouiz</td>\n",
       "      <td>27</td>\n",
       "      <td>2.90</td>\n",
       "    </tr>\n",
       "  </tbody>\n",
       "</table>\n",
       "</div>"
      ],
      "text/plain": [
       "    Name  age   GPA\n",
       "0  irfan   24  3.54\n",
       "1   moin   23  3.48\n",
       "2   saif   25  3.44\n",
       "3  Mouiz   27  2.90"
      ]
     },
     "execution_count": 72,
     "metadata": {},
     "output_type": "execute_result"
    }
   ],
   "source": [
    "gf"
   ]
  },
  {
   "cell_type": "code",
   "execution_count": 73,
   "id": "2baa04b8-52a4-46b1-853e-2bde5c3c6ab4",
   "metadata": {
    "tags": []
   },
   "outputs": [
    {
     "data": {
      "text/html": [
       "<div>\n",
       "<style scoped>\n",
       "    .dataframe tbody tr th:only-of-type {\n",
       "        vertical-align: middle;\n",
       "    }\n",
       "\n",
       "    .dataframe tbody tr th {\n",
       "        vertical-align: top;\n",
       "    }\n",
       "\n",
       "    .dataframe thead th {\n",
       "        text-align: right;\n",
       "    }\n",
       "</style>\n",
       "<table border=\"1\" class=\"dataframe\">\n",
       "  <thead>\n",
       "    <tr style=\"text-align: right;\">\n",
       "      <th></th>\n",
       "      <th>Name</th>\n",
       "      <th>age</th>\n",
       "      <th>GPA</th>\n",
       "    </tr>\n",
       "  </thead>\n",
       "  <tbody>\n",
       "    <tr>\n",
       "      <th>0</th>\n",
       "      <td>irfan</td>\n",
       "      <td>24</td>\n",
       "      <td>3.54</td>\n",
       "    </tr>\n",
       "    <tr>\n",
       "      <th>1</th>\n",
       "      <td>moin</td>\n",
       "      <td>23</td>\n",
       "      <td>3.48</td>\n",
       "    </tr>\n",
       "    <tr>\n",
       "      <th>2</th>\n",
       "      <td>saif</td>\n",
       "      <td>25</td>\n",
       "      <td>3.44</td>\n",
       "    </tr>\n",
       "    <tr>\n",
       "      <th>3</th>\n",
       "      <td>Mouiz</td>\n",
       "      <td>27</td>\n",
       "      <td>2.90</td>\n",
       "    </tr>\n",
       "  </tbody>\n",
       "</table>\n",
       "</div>"
      ],
      "text/plain": [
       "    Name  age   GPA\n",
       "0  irfan   24  3.54\n",
       "1   moin   23  3.48\n",
       "2   saif   25  3.44\n",
       "3  Mouiz   27  2.90"
      ]
     },
     "execution_count": 73,
     "metadata": {},
     "output_type": "execute_result"
    }
   ],
   "source": [
    "gf\n",
    "\n",
    "gf.reindex()"
   ]
  },
  {
   "cell_type": "code",
   "execution_count": 74,
   "id": "0f5950c0-354b-4388-a331-862c2eccad6b",
   "metadata": {},
   "outputs": [
    {
     "data": {
      "text/html": [
       "<div>\n",
       "<style scoped>\n",
       "    .dataframe tbody tr th:only-of-type {\n",
       "        vertical-align: middle;\n",
       "    }\n",
       "\n",
       "    .dataframe tbody tr th {\n",
       "        vertical-align: top;\n",
       "    }\n",
       "\n",
       "    .dataframe thead th {\n",
       "        text-align: right;\n",
       "    }\n",
       "</style>\n",
       "<table border=\"1\" class=\"dataframe\">\n",
       "  <thead>\n",
       "    <tr style=\"text-align: right;\">\n",
       "      <th></th>\n",
       "      <th>Name</th>\n",
       "      <th>age</th>\n",
       "      <th>GPA</th>\n",
       "    </tr>\n",
       "  </thead>\n",
       "  <tbody>\n",
       "    <tr>\n",
       "      <th>0</th>\n",
       "      <td>irfan</td>\n",
       "      <td>24</td>\n",
       "      <td>3.54</td>\n",
       "    </tr>\n",
       "    <tr>\n",
       "      <th>1</th>\n",
       "      <td>moin</td>\n",
       "      <td>23</td>\n",
       "      <td>3.48</td>\n",
       "    </tr>\n",
       "    <tr>\n",
       "      <th>2</th>\n",
       "      <td>saif</td>\n",
       "      <td>25</td>\n",
       "      <td>3.44</td>\n",
       "    </tr>\n",
       "    <tr>\n",
       "      <th>3</th>\n",
       "      <td>Mouiz</td>\n",
       "      <td>27</td>\n",
       "      <td>2.90</td>\n",
       "    </tr>\n",
       "  </tbody>\n",
       "</table>\n",
       "</div>"
      ],
      "text/plain": [
       "    Name  age   GPA\n",
       "0  irfan   24  3.54\n",
       "1   moin   23  3.48\n",
       "2   saif   25  3.44\n",
       "3  Mouiz   27  2.90"
      ]
     },
     "execution_count": 74,
     "metadata": {},
     "output_type": "execute_result"
    }
   ],
   "source": [
    "gf"
   ]
  },
  {
   "cell_type": "code",
   "execution_count": 75,
   "id": "10875ce8-8bb6-420a-bc06-4662806d218e",
   "metadata": {
    "tags": []
   },
   "outputs": [
    {
     "data": {
      "text/html": [
       "<div>\n",
       "<style scoped>\n",
       "    .dataframe tbody tr th:only-of-type {\n",
       "        vertical-align: middle;\n",
       "    }\n",
       "\n",
       "    .dataframe tbody tr th {\n",
       "        vertical-align: top;\n",
       "    }\n",
       "\n",
       "    .dataframe thead th {\n",
       "        text-align: right;\n",
       "    }\n",
       "</style>\n",
       "<table border=\"1\" class=\"dataframe\">\n",
       "  <thead>\n",
       "    <tr style=\"text-align: right;\">\n",
       "      <th></th>\n",
       "      <th>Name</th>\n",
       "      <th>age</th>\n",
       "      <th>GPA</th>\n",
       "    </tr>\n",
       "  </thead>\n",
       "  <tbody>\n",
       "    <tr>\n",
       "      <th>0</th>\n",
       "      <td>irfan</td>\n",
       "      <td>24</td>\n",
       "      <td>3.54</td>\n",
       "    </tr>\n",
       "    <tr>\n",
       "      <th>1</th>\n",
       "      <td>moin</td>\n",
       "      <td>23</td>\n",
       "      <td>3.48</td>\n",
       "    </tr>\n",
       "    <tr>\n",
       "      <th>2</th>\n",
       "      <td>saif</td>\n",
       "      <td>25</td>\n",
       "      <td>3.44</td>\n",
       "    </tr>\n",
       "    <tr>\n",
       "      <th>3</th>\n",
       "      <td>Mouiz</td>\n",
       "      <td>27</td>\n",
       "      <td>2.90</td>\n",
       "    </tr>\n",
       "  </tbody>\n",
       "</table>\n",
       "</div>"
      ],
      "text/plain": [
       "    Name  age   GPA\n",
       "0  irfan   24  3.54\n",
       "1   moin   23  3.48\n",
       "2   saif   25  3.44\n",
       "3  Mouiz   27  2.90"
      ]
     },
     "execution_count": 75,
     "metadata": {},
     "output_type": "execute_result"
    }
   ],
   "source": [
    "gf"
   ]
  },
  {
   "cell_type": "code",
   "execution_count": 76,
   "id": "0bdfad01-1c15-4bef-a7ea-3552161c821f",
   "metadata": {
    "tags": []
   },
   "outputs": [],
   "source": [
    "gf.index=(35,25,34,400)"
   ]
  },
  {
   "cell_type": "code",
   "execution_count": 77,
   "id": "4b4d8657-b667-427b-8690-4de72a88c8c7",
   "metadata": {
    "tags": []
   },
   "outputs": [],
   "source": [
    "gf['Gdr']=('m','m','f','u')"
   ]
  },
  {
   "cell_type": "code",
   "execution_count": 78,
   "id": "eb606cd2-9962-48bf-83eb-2714204745eb",
   "metadata": {
    "tags": []
   },
   "outputs": [
    {
     "data": {
      "text/html": [
       "<div>\n",
       "<style scoped>\n",
       "    .dataframe tbody tr th:only-of-type {\n",
       "        vertical-align: middle;\n",
       "    }\n",
       "\n",
       "    .dataframe tbody tr th {\n",
       "        vertical-align: top;\n",
       "    }\n",
       "\n",
       "    .dataframe thead th {\n",
       "        text-align: right;\n",
       "    }\n",
       "</style>\n",
       "<table border=\"1\" class=\"dataframe\">\n",
       "  <thead>\n",
       "    <tr style=\"text-align: right;\">\n",
       "      <th></th>\n",
       "      <th>Name</th>\n",
       "      <th>age</th>\n",
       "      <th>GPA</th>\n",
       "      <th>Gdr</th>\n",
       "    </tr>\n",
       "  </thead>\n",
       "  <tbody>\n",
       "    <tr>\n",
       "      <th>35</th>\n",
       "      <td>irfan</td>\n",
       "      <td>24</td>\n",
       "      <td>3.54</td>\n",
       "      <td>m</td>\n",
       "    </tr>\n",
       "    <tr>\n",
       "      <th>25</th>\n",
       "      <td>moin</td>\n",
       "      <td>23</td>\n",
       "      <td>3.48</td>\n",
       "      <td>m</td>\n",
       "    </tr>\n",
       "    <tr>\n",
       "      <th>34</th>\n",
       "      <td>saif</td>\n",
       "      <td>25</td>\n",
       "      <td>3.44</td>\n",
       "      <td>f</td>\n",
       "    </tr>\n",
       "    <tr>\n",
       "      <th>400</th>\n",
       "      <td>Mouiz</td>\n",
       "      <td>27</td>\n",
       "      <td>2.90</td>\n",
       "      <td>u</td>\n",
       "    </tr>\n",
       "  </tbody>\n",
       "</table>\n",
       "</div>"
      ],
      "text/plain": [
       "      Name  age   GPA Gdr\n",
       "35   irfan   24  3.54   m\n",
       "25    moin   23  3.48   m\n",
       "34    saif   25  3.44   f\n",
       "400  Mouiz   27  2.90   u"
      ]
     },
     "execution_count": 78,
     "metadata": {},
     "output_type": "execute_result"
    }
   ],
   "source": [
    "gf"
   ]
  },
  {
   "cell_type": "code",
   "execution_count": 79,
   "id": "9e77b1f6-611a-4140-91e5-340d48a22ea7",
   "metadata": {
    "tags": []
   },
   "outputs": [
    {
     "data": {
      "text/plain": [
       "3.44"
      ]
     },
     "execution_count": 79,
     "metadata": {},
     "output_type": "execute_result"
    }
   ],
   "source": [
    "gf.iloc[2,2]"
   ]
  },
  {
   "cell_type": "code",
   "execution_count": 80,
   "id": "4bcfcef6-197a-4986-8c27-4725cacfcd4b",
   "metadata": {},
   "outputs": [
    {
     "data": {
      "text/html": [
       "<div>\n",
       "<style scoped>\n",
       "    .dataframe tbody tr th:only-of-type {\n",
       "        vertical-align: middle;\n",
       "    }\n",
       "\n",
       "    .dataframe tbody tr th {\n",
       "        vertical-align: top;\n",
       "    }\n",
       "\n",
       "    .dataframe thead th {\n",
       "        text-align: right;\n",
       "    }\n",
       "</style>\n",
       "<table border=\"1\" class=\"dataframe\">\n",
       "  <thead>\n",
       "    <tr style=\"text-align: right;\">\n",
       "      <th></th>\n",
       "      <th>Gdr</th>\n",
       "    </tr>\n",
       "  </thead>\n",
       "  <tbody>\n",
       "    <tr>\n",
       "      <th>25</th>\n",
       "      <td>m</td>\n",
       "    </tr>\n",
       "    <tr>\n",
       "      <th>400</th>\n",
       "      <td>u</td>\n",
       "    </tr>\n",
       "  </tbody>\n",
       "</table>\n",
       "</div>"
      ],
      "text/plain": [
       "    Gdr\n",
       "25    m\n",
       "400   u"
      ]
     },
     "execution_count": 80,
     "metadata": {},
     "output_type": "execute_result"
    }
   ],
   "source": [
    "gf.iloc[[1,3],[3]]"
   ]
  },
  {
   "cell_type": "code",
   "execution_count": 81,
   "id": "e3e26bd0-3b6a-4a82-b8b2-a8021d5dea61",
   "metadata": {
    "tags": []
   },
   "outputs": [
    {
     "data": {
      "text/html": [
       "<div>\n",
       "<style scoped>\n",
       "    .dataframe tbody tr th:only-of-type {\n",
       "        vertical-align: middle;\n",
       "    }\n",
       "\n",
       "    .dataframe tbody tr th {\n",
       "        vertical-align: top;\n",
       "    }\n",
       "\n",
       "    .dataframe thead th {\n",
       "        text-align: right;\n",
       "    }\n",
       "</style>\n",
       "<table border=\"1\" class=\"dataframe\">\n",
       "  <thead>\n",
       "    <tr style=\"text-align: right;\">\n",
       "      <th></th>\n",
       "      <th>Name</th>\n",
       "      <th>age</th>\n",
       "      <th>GPA</th>\n",
       "      <th>Gdr</th>\n",
       "    </tr>\n",
       "  </thead>\n",
       "  <tbody>\n",
       "    <tr>\n",
       "      <th>35</th>\n",
       "      <td>irfan</td>\n",
       "      <td>24</td>\n",
       "      <td>3.54</td>\n",
       "      <td>m</td>\n",
       "    </tr>\n",
       "    <tr>\n",
       "      <th>25</th>\n",
       "      <td>moin</td>\n",
       "      <td>23</td>\n",
       "      <td>3.48</td>\n",
       "      <td>m</td>\n",
       "    </tr>\n",
       "    <tr>\n",
       "      <th>34</th>\n",
       "      <td>saif</td>\n",
       "      <td>25</td>\n",
       "      <td>3.44</td>\n",
       "      <td>f</td>\n",
       "    </tr>\n",
       "    <tr>\n",
       "      <th>400</th>\n",
       "      <td>Mouiz</td>\n",
       "      <td>27</td>\n",
       "      <td>2.90</td>\n",
       "      <td>u</td>\n",
       "    </tr>\n",
       "  </tbody>\n",
       "</table>\n",
       "</div>"
      ],
      "text/plain": [
       "      Name  age   GPA Gdr\n",
       "35   irfan   24  3.54   m\n",
       "25    moin   23  3.48   m\n",
       "34    saif   25  3.44   f\n",
       "400  Mouiz   27  2.90   u"
      ]
     },
     "execution_count": 81,
     "metadata": {},
     "output_type": "execute_result"
    }
   ],
   "source": [
    "gf"
   ]
  },
  {
   "cell_type": "code",
   "execution_count": 82,
   "id": "e19cf117-ab92-4667-9e1d-944a94dc13d8",
   "metadata": {
    "tags": []
   },
   "outputs": [
    {
     "data": {
      "text/html": [
       "<div>\n",
       "<style scoped>\n",
       "    .dataframe tbody tr th:only-of-type {\n",
       "        vertical-align: middle;\n",
       "    }\n",
       "\n",
       "    .dataframe tbody tr th {\n",
       "        vertical-align: top;\n",
       "    }\n",
       "\n",
       "    .dataframe thead th {\n",
       "        text-align: right;\n",
       "    }\n",
       "</style>\n",
       "<table border=\"1\" class=\"dataframe\">\n",
       "  <thead>\n",
       "    <tr style=\"text-align: right;\">\n",
       "      <th></th>\n",
       "      <th>Name</th>\n",
       "      <th>age</th>\n",
       "      <th>GPA</th>\n",
       "      <th>Gdr</th>\n",
       "    </tr>\n",
       "  </thead>\n",
       "  <tbody>\n",
       "    <tr>\n",
       "      <th>35</th>\n",
       "      <td>irfan</td>\n",
       "      <td>24</td>\n",
       "      <td>3.54</td>\n",
       "      <td>m</td>\n",
       "    </tr>\n",
       "    <tr>\n",
       "      <th>25</th>\n",
       "      <td>moin</td>\n",
       "      <td>23</td>\n",
       "      <td>3.48</td>\n",
       "      <td>m</td>\n",
       "    </tr>\n",
       "    <tr>\n",
       "      <th>34</th>\n",
       "      <td>saif</td>\n",
       "      <td>25</td>\n",
       "      <td>3.44</td>\n",
       "      <td>f</td>\n",
       "    </tr>\n",
       "    <tr>\n",
       "      <th>400</th>\n",
       "      <td>Mouiz</td>\n",
       "      <td>27</td>\n",
       "      <td>2.90</td>\n",
       "      <td>u</td>\n",
       "    </tr>\n",
       "  </tbody>\n",
       "</table>\n",
       "</div>"
      ],
      "text/plain": [
       "      Name  age   GPA Gdr\n",
       "35   irfan   24  3.54   m\n",
       "25    moin   23  3.48   m\n",
       "34    saif   25  3.44   f\n",
       "400  Mouiz   27  2.90   u"
      ]
     },
     "execution_count": 82,
     "metadata": {},
     "output_type": "execute_result"
    }
   ],
   "source": [
    "gf.drop([34], axis=0)\n",
    "gf"
   ]
  },
  {
   "cell_type": "code",
   "execution_count": 83,
   "id": "759492d6-3281-4245-866c-a725a0daa710",
   "metadata": {
    "tags": []
   },
   "outputs": [
    {
     "ename": "AttributeError",
     "evalue": "'DataFrame' object has no attribute 'DataFrame'",
     "output_type": "error",
     "traceback": [
      "\u001b[1;31m---------------------------------------------------------------------------\u001b[0m",
      "\u001b[1;31mAttributeError\u001b[0m                            Traceback (most recent call last)",
      "\u001b[1;32m~\\AppData\\Local\\Temp\\ipykernel_5932\\1269961088.py\u001b[0m in \u001b[0;36m?\u001b[1;34m()\u001b[0m\n\u001b[0;32m      1\u001b[0m zk={'Name':'Zakki', \n\u001b[0;32m      2\u001b[0m     \u001b[1;34m'age'\u001b[0m\u001b[1;33m:\u001b[0m\u001b[1;36m31\u001b[0m\u001b[1;33m,\u001b[0m\u001b[1;33m\u001b[0m\u001b[1;33m\u001b[0m\u001b[0m\n\u001b[0;32m      3\u001b[0m     \u001b[1;34m'GPA'\u001b[0m\u001b[1;33m:\u001b[0m\u001b[1;36m3.22\u001b[0m\u001b[1;33m,\u001b[0m\u001b[1;33m\u001b[0m\u001b[1;33m\u001b[0m\u001b[0m\n\u001b[0;32m      4\u001b[0m     'Gdr':'f'}\n\u001b[1;32m----> 5\u001b[1;33m \u001b[0mzzk\u001b[0m\u001b[1;33m=\u001b[0m\u001b[0mgf\u001b[0m\u001b[1;33m.\u001b[0m\u001b[0mDataFrame\u001b[0m\u001b[1;33m(\u001b[0m\u001b[0mzk\u001b[0m\u001b[1;33m,\u001b[0m \u001b[0mindex\u001b[0m\u001b[1;33m=\u001b[0m\u001b[1;33m(\u001b[0m\u001b[1;36m0\u001b[0m\u001b[1;33m)\u001b[0m\u001b[1;33m)\u001b[0m\u001b[1;33m\u001b[0m\u001b[1;33m\u001b[0m\u001b[0m\n\u001b[0m\u001b[0;32m      6\u001b[0m \u001b[0mzzk\u001b[0m\u001b[1;33m\u001b[0m\u001b[1;33m\u001b[0m\u001b[0m\n",
      "\u001b[1;32mC:\\ProgramData\\anaconda3\\Lib\\site-packages\\pandas\\core\\generic.py\u001b[0m in \u001b[0;36m?\u001b[1;34m(self, name)\u001b[0m\n\u001b[0;32m   6200\u001b[0m             \u001b[1;32mand\u001b[0m \u001b[0mname\u001b[0m \u001b[1;32mnot\u001b[0m \u001b[1;32min\u001b[0m \u001b[0mself\u001b[0m\u001b[1;33m.\u001b[0m\u001b[0m_accessors\u001b[0m\u001b[1;33m\u001b[0m\u001b[1;33m\u001b[0m\u001b[0m\n\u001b[0;32m   6201\u001b[0m             \u001b[1;32mand\u001b[0m \u001b[0mself\u001b[0m\u001b[1;33m.\u001b[0m\u001b[0m_info_axis\u001b[0m\u001b[1;33m.\u001b[0m\u001b[0m_can_hold_identifiers_and_holds_name\u001b[0m\u001b[1;33m(\u001b[0m\u001b[0mname\u001b[0m\u001b[1;33m)\u001b[0m\u001b[1;33m\u001b[0m\u001b[1;33m\u001b[0m\u001b[0m\n\u001b[0;32m   6202\u001b[0m         ):\n\u001b[0;32m   6203\u001b[0m             \u001b[1;32mreturn\u001b[0m \u001b[0mself\u001b[0m\u001b[1;33m[\u001b[0m\u001b[0mname\u001b[0m\u001b[1;33m]\u001b[0m\u001b[1;33m\u001b[0m\u001b[1;33m\u001b[0m\u001b[0m\n\u001b[1;32m-> 6204\u001b[1;33m         \u001b[1;32mreturn\u001b[0m \u001b[0mobject\u001b[0m\u001b[1;33m.\u001b[0m\u001b[0m__getattribute__\u001b[0m\u001b[1;33m(\u001b[0m\u001b[0mself\u001b[0m\u001b[1;33m,\u001b[0m \u001b[0mname\u001b[0m\u001b[1;33m)\u001b[0m\u001b[1;33m\u001b[0m\u001b[1;33m\u001b[0m\u001b[0m\n\u001b[0m",
      "\u001b[1;31mAttributeError\u001b[0m: 'DataFrame' object has no attribute 'DataFrame'"
     ]
    }
   ],
   "source": [
    "zk={'Name':'Zakki', \n",
    "    'age':31, \n",
    "    'GPA':3.22,\n",
    "    'Gdr':'f'}\n",
    "zzk=gf.DataFrame(zk, index=(0))\n",
    "zzk"
   ]
  },
  {
   "cell_type": "code",
   "execution_count": 84,
   "id": "fdff5814-93a0-4509-9722-90c25918484e",
   "metadata": {},
   "outputs": [],
   "source": [
    "zuk=pd.DataFrame([['Zakki', 31, 3.20, 'f']])"
   ]
  },
  {
   "cell_type": "code",
   "execution_count": 85,
   "id": "7d4aecba-9e3d-462c-9d09-e7869fccd77e",
   "metadata": {
    "tags": []
   },
   "outputs": [
    {
     "data": {
      "text/html": [
       "<div>\n",
       "<style scoped>\n",
       "    .dataframe tbody tr th:only-of-type {\n",
       "        vertical-align: middle;\n",
       "    }\n",
       "\n",
       "    .dataframe tbody tr th {\n",
       "        vertical-align: top;\n",
       "    }\n",
       "\n",
       "    .dataframe thead th {\n",
       "        text-align: right;\n",
       "    }\n",
       "</style>\n",
       "<table border=\"1\" class=\"dataframe\">\n",
       "  <thead>\n",
       "    <tr style=\"text-align: right;\">\n",
       "      <th></th>\n",
       "      <th>Name</th>\n",
       "      <th>age</th>\n",
       "      <th>GPA</th>\n",
       "      <th>Gdr</th>\n",
       "    </tr>\n",
       "  </thead>\n",
       "  <tbody>\n",
       "    <tr>\n",
       "      <th>0</th>\n",
       "      <td>Zakki</td>\n",
       "      <td>31</td>\n",
       "      <td>3.2</td>\n",
       "      <td>f</td>\n",
       "    </tr>\n",
       "  </tbody>\n",
       "</table>\n",
       "</div>"
      ],
      "text/plain": [
       "    Name  age  GPA Gdr\n",
       "0  Zakki   31  3.2   f"
      ]
     },
     "execution_count": 85,
     "metadata": {},
     "output_type": "execute_result"
    }
   ],
   "source": [
    "zuk.columns=('Name', 'age', 'GPA', 'Gdr')\n",
    "zuk"
   ]
  },
  {
   "cell_type": "code",
   "execution_count": 86,
   "id": "32a8f5c1-7a35-4769-867b-64c75a729b85",
   "metadata": {
    "tags": []
   },
   "outputs": [
    {
     "data": {
      "text/html": [
       "<div>\n",
       "<style scoped>\n",
       "    .dataframe tbody tr th:only-of-type {\n",
       "        vertical-align: middle;\n",
       "    }\n",
       "\n",
       "    .dataframe tbody tr th {\n",
       "        vertical-align: top;\n",
       "    }\n",
       "\n",
       "    .dataframe thead th {\n",
       "        text-align: right;\n",
       "    }\n",
       "</style>\n",
       "<table border=\"1\" class=\"dataframe\">\n",
       "  <thead>\n",
       "    <tr style=\"text-align: right;\">\n",
       "      <th></th>\n",
       "      <th>Name</th>\n",
       "      <th>age</th>\n",
       "      <th>GPA</th>\n",
       "      <th>Gdr</th>\n",
       "    </tr>\n",
       "  </thead>\n",
       "  <tbody>\n",
       "    <tr>\n",
       "      <th>35</th>\n",
       "      <td>irfan</td>\n",
       "      <td>24</td>\n",
       "      <td>3.54</td>\n",
       "      <td>m</td>\n",
       "    </tr>\n",
       "    <tr>\n",
       "      <th>25</th>\n",
       "      <td>moin</td>\n",
       "      <td>23</td>\n",
       "      <td>3.48</td>\n",
       "      <td>m</td>\n",
       "    </tr>\n",
       "    <tr>\n",
       "      <th>34</th>\n",
       "      <td>saif</td>\n",
       "      <td>25</td>\n",
       "      <td>3.44</td>\n",
       "      <td>f</td>\n",
       "    </tr>\n",
       "    <tr>\n",
       "      <th>400</th>\n",
       "      <td>Mouiz</td>\n",
       "      <td>27</td>\n",
       "      <td>2.90</td>\n",
       "      <td>u</td>\n",
       "    </tr>\n",
       "    <tr>\n",
       "      <th>0</th>\n",
       "      <td>Zakki</td>\n",
       "      <td>31</td>\n",
       "      <td>3.20</td>\n",
       "      <td>f</td>\n",
       "    </tr>\n",
       "  </tbody>\n",
       "</table>\n",
       "</div>"
      ],
      "text/plain": [
       "      Name  age   GPA Gdr\n",
       "35   irfan   24  3.54   m\n",
       "25    moin   23  3.48   m\n",
       "34    saif   25  3.44   f\n",
       "400  Mouiz   27  2.90   u\n",
       "0    Zakki   31  3.20   f"
      ]
     },
     "execution_count": 86,
     "metadata": {},
     "output_type": "execute_result"
    }
   ],
   "source": [
    "dat=pd.concat([gf, zuk])\n",
    "dat"
   ]
  },
  {
   "cell_type": "code",
   "execution_count": 87,
   "id": "3d9cbdfc-dbea-4649-8e77-7319777f069c",
   "metadata": {
    "tags": []
   },
   "outputs": [
    {
     "data": {
      "text/html": [
       "<div>\n",
       "<style scoped>\n",
       "    .dataframe tbody tr th:only-of-type {\n",
       "        vertical-align: middle;\n",
       "    }\n",
       "\n",
       "    .dataframe tbody tr th {\n",
       "        vertical-align: top;\n",
       "    }\n",
       "\n",
       "    .dataframe thead th {\n",
       "        text-align: right;\n",
       "    }\n",
       "</style>\n",
       "<table border=\"1\" class=\"dataframe\">\n",
       "  <thead>\n",
       "    <tr style=\"text-align: right;\">\n",
       "      <th></th>\n",
       "      <th>Name</th>\n",
       "      <th>age</th>\n",
       "      <th>GPA</th>\n",
       "      <th>Gdr</th>\n",
       "    </tr>\n",
       "  </thead>\n",
       "  <tbody>\n",
       "    <tr>\n",
       "      <th>1</th>\n",
       "      <td>irfan</td>\n",
       "      <td>24</td>\n",
       "      <td>3.54</td>\n",
       "      <td>m</td>\n",
       "    </tr>\n",
       "    <tr>\n",
       "      <th>2</th>\n",
       "      <td>moin</td>\n",
       "      <td>23</td>\n",
       "      <td>3.48</td>\n",
       "      <td>m</td>\n",
       "    </tr>\n",
       "    <tr>\n",
       "      <th>3</th>\n",
       "      <td>saif</td>\n",
       "      <td>25</td>\n",
       "      <td>3.44</td>\n",
       "      <td>f</td>\n",
       "    </tr>\n",
       "    <tr>\n",
       "      <th>4</th>\n",
       "      <td>Mouiz</td>\n",
       "      <td>27</td>\n",
       "      <td>2.90</td>\n",
       "      <td>u</td>\n",
       "    </tr>\n",
       "    <tr>\n",
       "      <th>5</th>\n",
       "      <td>Zakki</td>\n",
       "      <td>31</td>\n",
       "      <td>3.20</td>\n",
       "      <td>f</td>\n",
       "    </tr>\n",
       "  </tbody>\n",
       "</table>\n",
       "</div>"
      ],
      "text/plain": [
       "    Name  age   GPA Gdr\n",
       "1  irfan   24  3.54   m\n",
       "2   moin   23  3.48   m\n",
       "3   saif   25  3.44   f\n",
       "4  Mouiz   27  2.90   u\n",
       "5  Zakki   31  3.20   f"
      ]
     },
     "execution_count": 87,
     "metadata": {},
     "output_type": "execute_result"
    }
   ],
   "source": [
    "dat.index=([1,2,3,4,5])\n",
    "dat"
   ]
  },
  {
   "cell_type": "code",
   "execution_count": 88,
   "id": "8e33fd6a-f6b5-46ee-a519-52c3e9c10fa6",
   "metadata": {
    "tags": []
   },
   "outputs": [
    {
     "data": {
      "text/html": [
       "<div>\n",
       "<style scoped>\n",
       "    .dataframe tbody tr th:only-of-type {\n",
       "        vertical-align: middle;\n",
       "    }\n",
       "\n",
       "    .dataframe tbody tr th {\n",
       "        vertical-align: top;\n",
       "    }\n",
       "\n",
       "    .dataframe thead th {\n",
       "        text-align: right;\n",
       "    }\n",
       "</style>\n",
       "<table border=\"1\" class=\"dataframe\">\n",
       "  <thead>\n",
       "    <tr style=\"text-align: right;\">\n",
       "      <th></th>\n",
       "      <th>tame</th>\n",
       "      <th>age</th>\n",
       "      <th>GPA</th>\n",
       "      <th>Gdr</th>\n",
       "    </tr>\n",
       "  </thead>\n",
       "  <tbody>\n",
       "    <tr>\n",
       "      <th>1</th>\n",
       "      <td>irfan</td>\n",
       "      <td>24</td>\n",
       "      <td>3.54</td>\n",
       "      <td>m</td>\n",
       "    </tr>\n",
       "    <tr>\n",
       "      <th>2</th>\n",
       "      <td>moin</td>\n",
       "      <td>23</td>\n",
       "      <td>3.48</td>\n",
       "      <td>m</td>\n",
       "    </tr>\n",
       "    <tr>\n",
       "      <th>3</th>\n",
       "      <td>saif</td>\n",
       "      <td>25</td>\n",
       "      <td>3.44</td>\n",
       "      <td>f</td>\n",
       "    </tr>\n",
       "    <tr>\n",
       "      <th>44</th>\n",
       "      <td>Mouiz</td>\n",
       "      <td>27</td>\n",
       "      <td>2.90</td>\n",
       "      <td>u</td>\n",
       "    </tr>\n",
       "    <tr>\n",
       "      <th>5</th>\n",
       "      <td>Zakki</td>\n",
       "      <td>31</td>\n",
       "      <td>3.20</td>\n",
       "      <td>f</td>\n",
       "    </tr>\n",
       "  </tbody>\n",
       "</table>\n",
       "</div>"
      ],
      "text/plain": [
       "     tame  age   GPA Gdr\n",
       "1   irfan   24  3.54   m\n",
       "2    moin   23  3.48   m\n",
       "3    saif   25  3.44   f\n",
       "44  Mouiz   27  2.90   u\n",
       "5   Zakki   31  3.20   f"
      ]
     },
     "execution_count": 88,
     "metadata": {},
     "output_type": "execute_result"
    }
   ],
   "source": [
    "kat=dat.rename(columns={'Name':'tame'}, index={4:44})\n",
    "kat"
   ]
  },
  {
   "cell_type": "code",
   "execution_count": 89,
   "id": "ff59d29f-2c7b-4c8f-a0c3-fa99b62b7aee",
   "metadata": {
    "tags": []
   },
   "outputs": [
    {
     "name": "stdout",
     "output_type": "stream",
     "text": [
      "Name\n",
      "age\n",
      "GPA\n",
      "Gdr\n"
     ]
    }
   ],
   "source": [
    "for x in dat.columns:\n",
    "    print (x)"
   ]
  },
  {
   "cell_type": "code",
   "execution_count": 90,
   "id": "3be484c3-e60a-4305-ab41-6e8abdfe0ec7",
   "metadata": {
    "tags": []
   },
   "outputs": [
    {
     "name": "stdout",
     "output_type": "stream",
     "text": [
      "Name\n",
      "['irfan' 'moin' 'saif' 'Mouiz' 'Zakki']\n",
      "age\n",
      "[24 23 25 27 31]\n",
      "GPA\n",
      "[3.54 3.48 3.44 2.9  3.2 ]\n",
      "Gdr\n",
      "['m' 'm' 'f' 'u' 'f']\n"
     ]
    }
   ],
   "source": [
    "for column_name, series in dat.items():\n",
    "    print(column_name)\n",
    "    print(series.values)"
   ]
  },
  {
   "cell_type": "code",
   "execution_count": 91,
   "id": "af8f75bd-7a83-4cae-a24c-c8e417befd29",
   "metadata": {
    "tags": []
   },
   "outputs": [
    {
     "name": "stdout",
     "output_type": "stream",
     "text": [
      "Name\n",
      "['irfan' 'moin' 'saif' 'Mouiz' 'Zakki']\n",
      "age\n",
      "[24 23 25 27 31]\n",
      "GPA\n",
      "[3.54 3.48 3.44 2.9  3.2 ]\n",
      "Gdr\n",
      "['m' 'm' 'f' 'u' 'f']\n"
     ]
    }
   ],
   "source": [
    "for l, r in dat.items():\n",
    "    print(l)\n",
    "    print(r.values)"
   ]
  },
  {
   "cell_type": "code",
   "execution_count": 92,
   "id": "fa0a83e1-8dc1-4f1b-9e6b-6b2ee072e1a4",
   "metadata": {
    "tags": []
   },
   "outputs": [
    {
     "name": "stdout",
     "output_type": "stream",
     "text": [
      "1 Name    irfan\n",
      "age        24\n",
      "GPA      3.54\n",
      "Gdr         m\n",
      "Name: 1, dtype: object\n",
      "2 Name    moin\n",
      "age       23\n",
      "GPA     3.48\n",
      "Gdr        m\n",
      "Name: 2, dtype: object\n",
      "3 Name    saif\n",
      "age       25\n",
      "GPA     3.44\n",
      "Gdr        f\n",
      "Name: 3, dtype: object\n",
      "4 Name    Mouiz\n",
      "age        27\n",
      "GPA       2.9\n",
      "Gdr         u\n",
      "Name: 4, dtype: object\n",
      "5 Name    Zakki\n",
      "age        31\n",
      "GPA       3.2\n",
      "Gdr         f\n",
      "Name: 5, dtype: object\n"
     ]
    }
   ],
   "source": [
    "for l,r in dat.iterrows():\n",
    "    print(l,r)\n",
    "    "
   ]
  },
  {
   "cell_type": "code",
   "execution_count": 93,
   "id": "5c4b8866-2393-4757-ab9a-df38e7519bd2",
   "metadata": {},
   "outputs": [
    {
     "name": "stdout",
     "output_type": "stream",
     "text": [
      "dat\n"
     ]
    }
   ],
   "source": [
    "print('dat')"
   ]
  },
  {
   "cell_type": "code",
   "execution_count": 94,
   "id": "104e877d-14ba-4af8-b732-72fb22df0eb9",
   "metadata": {},
   "outputs": [
    {
     "data": {
      "text/html": [
       "<div>\n",
       "<style scoped>\n",
       "    .dataframe tbody tr th:only-of-type {\n",
       "        vertical-align: middle;\n",
       "    }\n",
       "\n",
       "    .dataframe tbody tr th {\n",
       "        vertical-align: top;\n",
       "    }\n",
       "\n",
       "    .dataframe thead th {\n",
       "        text-align: right;\n",
       "    }\n",
       "</style>\n",
       "<table border=\"1\" class=\"dataframe\">\n",
       "  <thead>\n",
       "    <tr style=\"text-align: right;\">\n",
       "      <th></th>\n",
       "      <th>Name</th>\n",
       "      <th>age</th>\n",
       "      <th>GPA</th>\n",
       "      <th>Gdr</th>\n",
       "    </tr>\n",
       "  </thead>\n",
       "  <tbody>\n",
       "    <tr>\n",
       "      <th>1</th>\n",
       "      <td>irfan</td>\n",
       "      <td>24</td>\n",
       "      <td>3.54</td>\n",
       "      <td>m</td>\n",
       "    </tr>\n",
       "    <tr>\n",
       "      <th>2</th>\n",
       "      <td>moin</td>\n",
       "      <td>23</td>\n",
       "      <td>3.48</td>\n",
       "      <td>m</td>\n",
       "    </tr>\n",
       "    <tr>\n",
       "      <th>3</th>\n",
       "      <td>saif</td>\n",
       "      <td>25</td>\n",
       "      <td>3.44</td>\n",
       "      <td>f</td>\n",
       "    </tr>\n",
       "    <tr>\n",
       "      <th>4</th>\n",
       "      <td>Mouiz</td>\n",
       "      <td>27</td>\n",
       "      <td>2.90</td>\n",
       "      <td>u</td>\n",
       "    </tr>\n",
       "    <tr>\n",
       "      <th>5</th>\n",
       "      <td>Zakki</td>\n",
       "      <td>31</td>\n",
       "      <td>3.20</td>\n",
       "      <td>f</td>\n",
       "    </tr>\n",
       "  </tbody>\n",
       "</table>\n",
       "</div>"
      ],
      "text/plain": [
       "    Name  age   GPA Gdr\n",
       "1  irfan   24  3.54   m\n",
       "2   moin   23  3.48   m\n",
       "3   saif   25  3.44   f\n",
       "4  Mouiz   27  2.90   u\n",
       "5  Zakki   31  3.20   f"
      ]
     },
     "execution_count": 94,
     "metadata": {},
     "output_type": "execute_result"
    }
   ],
   "source": [
    "dat"
   ]
  },
  {
   "cell_type": "code",
   "execution_count": 100,
   "id": "dd4a892b-ae8a-4e77-ab52-99886c3005d5",
   "metadata": {},
   "outputs": [
    {
     "data": {
      "text/html": [
       "<div>\n",
       "<style scoped>\n",
       "    .dataframe tbody tr th:only-of-type {\n",
       "        vertical-align: middle;\n",
       "    }\n",
       "\n",
       "    .dataframe tbody tr th {\n",
       "        vertical-align: top;\n",
       "    }\n",
       "\n",
       "    .dataframe thead th {\n",
       "        text-align: right;\n",
       "    }\n",
       "</style>\n",
       "<table border=\"1\" class=\"dataframe\">\n",
       "  <thead>\n",
       "    <tr style=\"text-align: right;\">\n",
       "      <th></th>\n",
       "      <th>Name</th>\n",
       "      <th>age</th>\n",
       "      <th>GPA</th>\n",
       "      <th>Gdr</th>\n",
       "    </tr>\n",
       "  </thead>\n",
       "  <tbody>\n",
       "    <tr>\n",
       "      <th>1</th>\n",
       "      <td>irfan</td>\n",
       "      <td>24</td>\n",
       "      <td>3.54</td>\n",
       "      <td>m</td>\n",
       "    </tr>\n",
       "    <tr>\n",
       "      <th>2</th>\n",
       "      <td>moin</td>\n",
       "      <td>23</td>\n",
       "      <td>3.48</td>\n",
       "      <td>m</td>\n",
       "    </tr>\n",
       "    <tr>\n",
       "      <th>3</th>\n",
       "      <td>saif</td>\n",
       "      <td>25</td>\n",
       "      <td>3.44</td>\n",
       "      <td>f</td>\n",
       "    </tr>\n",
       "    <tr>\n",
       "      <th>4</th>\n",
       "      <td>Mouiz</td>\n",
       "      <td>27</td>\n",
       "      <td>2.90</td>\n",
       "      <td>u</td>\n",
       "    </tr>\n",
       "    <tr>\n",
       "      <th>5</th>\n",
       "      <td>Zakki</td>\n",
       "      <td>31</td>\n",
       "      <td>3.20</td>\n",
       "      <td>f</td>\n",
       "    </tr>\n",
       "  </tbody>\n",
       "</table>\n",
       "</div>"
      ],
      "text/plain": [
       "    Name  age   GPA Gdr\n",
       "1  irfan   24  3.54   m\n",
       "2   moin   23  3.48   m\n",
       "3   saif   25  3.44   f\n",
       "4  Mouiz   27  2.90   u\n",
       "5  Zakki   31  3.20   f"
      ]
     },
     "execution_count": 100,
     "metadata": {},
     "output_type": "execute_result"
    }
   ],
   "source": [
    "dat"
   ]
  },
  {
   "cell_type": "code",
   "execution_count": null,
   "id": "f82980ca-c4db-43f3-97ac-dba8be710c69",
   "metadata": {},
   "outputs": [],
   "source": []
  }
 ],
 "metadata": {
  "kernelspec": {
   "display_name": "Python 3 (ipykernel)",
   "language": "python",
   "name": "python3"
  },
  "language_info": {
   "codemirror_mode": {
    "name": "ipython",
    "version": 3
   },
   "file_extension": ".py",
   "mimetype": "text/x-python",
   "name": "python",
   "nbconvert_exporter": "python",
   "pygments_lexer": "ipython3",
   "version": "3.11.7"
  }
 },
 "nbformat": 4,
 "nbformat_minor": 5
}
